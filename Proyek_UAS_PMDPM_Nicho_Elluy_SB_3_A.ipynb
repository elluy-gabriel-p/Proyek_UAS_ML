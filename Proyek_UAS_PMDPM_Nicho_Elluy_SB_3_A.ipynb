{
 "cells": [
  {
   "attachments": {},
   "cell_type": "markdown",
   "id": "72a875f0",
   "metadata": {
    "id": "72a875f0"
   },
   "source": [
    "# Proyek UAS PMDPM\n",
    "\n",
    "<b>Harap jangan menghapus cell dan komentar yang diberikan!</b>\n",
    "\n",
    "Setiap cell markdown dan code akan berisi instruksi pengerjaan Proyek UAS PMDPM\n",
    "\n",
    "Dalam notebook ini Anda akan diminta untuk membuat sebuah proyek Pembelajaran Mesin menggunakan dataset yang sudah disediakan. Proyek akan terdiri dari proses inisialisasi, data loading, data cleansing, feature engineering, modelling dan evaluasi model. Pada bagian akhir silahkan berikan laporan singkat dari proyek yang sudah dikerjakan"
   ]
  },
  {
   "attachments": {},
   "cell_type": "markdown",
   "id": "mJk9HuB_FIKC",
   "metadata": {
    "id": "mJk9HuB_FIKC"
   },
   "source": [
    "## Penjelasan Tugas\n",
    "\n",
    "Terapkan pemrosesan dataset dari loading, data cleansing (jika perlu), data scaling, feature selection, hingga evaluasi model secara sederhana menggunakan code yang sudah dipelajari dalam latihan-latihan dan tugas."
   ]
  },
  {
   "attachments": {},
   "cell_type": "markdown",
   "id": "79d4888b",
   "metadata": {
    "id": "79d4888b"
   },
   "source": [
    "### Inisialisasi\n",
    "\n",
    "Bagian berikut berisi import library yang dibutuhkan"
   ]
  },
  {
   "cell_type": "code",
   "execution_count": 158,
   "id": "b62a6a54",
   "metadata": {
    "ExecuteTime": {
     "end_time": "2023-06-15T17:32:15.201858200Z",
     "start_time": "2023-06-15T17:32:15.118230500Z"
    }
   },
   "outputs": [],
   "source": [
    "import warnings\n",
    "import pandas as pd\n",
    "import matplotlib.pyplot as plt\n",
    "warnings.filterwarnings('ignore')\n",
    "from sklearn import preprocessing\n",
    "from sklearn.pipeline import Pipeline\n",
    "from sklearn.feature_selection import SelectKBest\n",
    "from sklearn.multiclass import OneVsRestClassifier\n",
    "from sklearn.compose import make_column_transformer\n",
    "from sklearn.linear_model import LogisticRegression\n",
    "from sklearn.ensemble import RandomForestClassifier\n",
    "\n",
    "from sklearn.preprocessing import OneHotEncoder\n",
    "from sklearn.preprocessing import StandardScaler\n",
    "\n",
    "from sklearn.model_selection import train_test_split\n",
    "from sklearn.model_selection import GridSearchCV\n",
    "from sklearn.model_selection import StratifiedKFold\n",
    "\n",
    "from sklearn.metrics import roc_curve\n",
    "from sklearn.metrics import roc_auc_score\n",
    "from sklearn.metrics import classification_report,confusion_matrix\n"
   ]
  },
  {
   "attachments": {},
   "cell_type": "markdown",
   "id": "fdd03879",
   "metadata": {
    "id": "fdd03879"
   },
   "source": [
    "### Data Loading\n",
    "\n",
    "Bagian berikut berisi proses data loading (boleh dengan file upload atau dengan mount drive), jangan lupa tampilkan 20 baris data teratas!"
   ]
  },
  {
   "cell_type": "code",
   "execution_count": 159,
   "id": "1074df6e",
   "metadata": {
    "ExecuteTime": {
     "end_time": "2023-06-15T17:32:15.274254200Z",
     "start_time": "2023-06-15T17:32:15.125750600Z"
    },
    "id": "1074df6e"
   },
   "outputs": [
    {
     "data": {
      "text/html": [
       "<div>\n",
       "<style scoped>\n",
       "    .dataframe tbody tr th:only-of-type {\n",
       "        vertical-align: middle;\n",
       "    }\n",
       "\n",
       "    .dataframe tbody tr th {\n",
       "        vertical-align: top;\n",
       "    }\n",
       "\n",
       "    .dataframe thead th {\n",
       "        text-align: right;\n",
       "    }\n",
       "</style>\n",
       "<table border=\"1\" class=\"dataframe\">\n",
       "  <thead>\n",
       "    <tr style=\"text-align: right;\">\n",
       "      <th></th>\n",
       "      <th>cityPartRange</th>\n",
       "      <th>numPrevOwners</th>\n",
       "      <th>made</th>\n",
       "      <th>isNewBuilt</th>\n",
       "      <th>hasStormProtector</th>\n",
       "      <th>basement</th>\n",
       "      <th>attic</th>\n",
       "      <th>garage</th>\n",
       "      <th>hasStorageRoom</th>\n",
       "      <th>hasGuestRoom</th>\n",
       "      <th>price</th>\n",
       "      <th>category</th>\n",
       "    </tr>\n",
       "  </thead>\n",
       "  <tbody>\n",
       "    <tr>\n",
       "      <th>0</th>\n",
       "      <td>3</td>\n",
       "      <td>4</td>\n",
       "      <td>1995</td>\n",
       "      <td>N</td>\n",
       "      <td>Y</td>\n",
       "      <td>3114</td>\n",
       "      <td>1258</td>\n",
       "      <td>264</td>\n",
       "      <td>Y</td>\n",
       "      <td>9</td>\n",
       "      <td>10313.5</td>\n",
       "      <td>Basic</td>\n",
       "    </tr>\n",
       "    <tr>\n",
       "      <th>1</th>\n",
       "      <td>9</td>\n",
       "      <td>1</td>\n",
       "      <td>2011</td>\n",
       "      <td>N</td>\n",
       "      <td>Y</td>\n",
       "      <td>9390</td>\n",
       "      <td>6219</td>\n",
       "      <td>922</td>\n",
       "      <td>N</td>\n",
       "      <td>9</td>\n",
       "      <td>13229.1</td>\n",
       "      <td>Basic</td>\n",
       "    </tr>\n",
       "    <tr>\n",
       "      <th>2</th>\n",
       "      <td>1</td>\n",
       "      <td>4</td>\n",
       "      <td>2003</td>\n",
       "      <td>Y</td>\n",
       "      <td>N</td>\n",
       "      <td>2239</td>\n",
       "      <td>2795</td>\n",
       "      <td>951</td>\n",
       "      <td>Y</td>\n",
       "      <td>7</td>\n",
       "      <td>14431.3</td>\n",
       "      <td>Basic</td>\n",
       "    </tr>\n",
       "    <tr>\n",
       "      <th>3</th>\n",
       "      <td>6</td>\n",
       "      <td>2</td>\n",
       "      <td>1990</td>\n",
       "      <td>N</td>\n",
       "      <td>N</td>\n",
       "      <td>6861</td>\n",
       "      <td>5769</td>\n",
       "      <td>442</td>\n",
       "      <td>N</td>\n",
       "      <td>5</td>\n",
       "      <td>15488.0</td>\n",
       "      <td>Basic</td>\n",
       "    </tr>\n",
       "    <tr>\n",
       "      <th>4</th>\n",
       "      <td>6</td>\n",
       "      <td>9</td>\n",
       "      <td>1992</td>\n",
       "      <td>Y</td>\n",
       "      <td>Y</td>\n",
       "      <td>6618</td>\n",
       "      <td>7045</td>\n",
       "      <td>939</td>\n",
       "      <td>Y</td>\n",
       "      <td>10</td>\n",
       "      <td>16799.2</td>\n",
       "      <td>Basic</td>\n",
       "    </tr>\n",
       "    <tr>\n",
       "      <th>5</th>\n",
       "      <td>5</td>\n",
       "      <td>2</td>\n",
       "      <td>2010</td>\n",
       "      <td>Y</td>\n",
       "      <td>N</td>\n",
       "      <td>4426</td>\n",
       "      <td>5336</td>\n",
       "      <td>911</td>\n",
       "      <td>N</td>\n",
       "      <td>4</td>\n",
       "      <td>17071.0</td>\n",
       "      <td>Basic</td>\n",
       "    </tr>\n",
       "    <tr>\n",
       "      <th>6</th>\n",
       "      <td>4</td>\n",
       "      <td>3</td>\n",
       "      <td>1990</td>\n",
       "      <td>Y</td>\n",
       "      <td>N</td>\n",
       "      <td>6022</td>\n",
       "      <td>8521</td>\n",
       "      <td>391</td>\n",
       "      <td>Y</td>\n",
       "      <td>3</td>\n",
       "      <td>17363.0</td>\n",
       "      <td>Basic</td>\n",
       "    </tr>\n",
       "    <tr>\n",
       "      <th>7</th>\n",
       "      <td>6</td>\n",
       "      <td>3</td>\n",
       "      <td>2000</td>\n",
       "      <td>N</td>\n",
       "      <td>N</td>\n",
       "      <td>2325</td>\n",
       "      <td>6230</td>\n",
       "      <td>536</td>\n",
       "      <td>N</td>\n",
       "      <td>9</td>\n",
       "      <td>18985.0</td>\n",
       "      <td>Basic</td>\n",
       "    </tr>\n",
       "    <tr>\n",
       "      <th>8</th>\n",
       "      <td>2</td>\n",
       "      <td>2</td>\n",
       "      <td>2020</td>\n",
       "      <td>N</td>\n",
       "      <td>Y</td>\n",
       "      <td>8598</td>\n",
       "      <td>3119</td>\n",
       "      <td>268</td>\n",
       "      <td>N</td>\n",
       "      <td>10</td>\n",
       "      <td>19638.0</td>\n",
       "      <td>Basic</td>\n",
       "    </tr>\n",
       "    <tr>\n",
       "      <th>9</th>\n",
       "      <td>7</td>\n",
       "      <td>6</td>\n",
       "      <td>1995</td>\n",
       "      <td>N</td>\n",
       "      <td>Y</td>\n",
       "      <td>2675</td>\n",
       "      <td>6452</td>\n",
       "      <td>724</td>\n",
       "      <td>Y</td>\n",
       "      <td>2</td>\n",
       "      <td>19788.5</td>\n",
       "      <td>Basic</td>\n",
       "    </tr>\n",
       "    <tr>\n",
       "      <th>10</th>\n",
       "      <td>5</td>\n",
       "      <td>1</td>\n",
       "      <td>2021</td>\n",
       "      <td>N</td>\n",
       "      <td>Y</td>\n",
       "      <td>6831</td>\n",
       "      <td>1323</td>\n",
       "      <td>242</td>\n",
       "      <td>N</td>\n",
       "      <td>9</td>\n",
       "      <td>21201.1</td>\n",
       "      <td>Basic</td>\n",
       "    </tr>\n",
       "    <tr>\n",
       "      <th>11</th>\n",
       "      <td>3</td>\n",
       "      <td>1</td>\n",
       "      <td>2002</td>\n",
       "      <td>N</td>\n",
       "      <td>Y</td>\n",
       "      <td>7704</td>\n",
       "      <td>7896</td>\n",
       "      <td>468</td>\n",
       "      <td>Y</td>\n",
       "      <td>8</td>\n",
       "      <td>22499.2</td>\n",
       "      <td>Basic</td>\n",
       "    </tr>\n",
       "    <tr>\n",
       "      <th>12</th>\n",
       "      <td>5</td>\n",
       "      <td>4</td>\n",
       "      <td>1997</td>\n",
       "      <td>Y</td>\n",
       "      <td>N</td>\n",
       "      <td>3411</td>\n",
       "      <td>8985</td>\n",
       "      <td>213</td>\n",
       "      <td>N</td>\n",
       "      <td>4</td>\n",
       "      <td>22670.7</td>\n",
       "      <td>Basic</td>\n",
       "    </tr>\n",
       "    <tr>\n",
       "      <th>13</th>\n",
       "      <td>5</td>\n",
       "      <td>1</td>\n",
       "      <td>1991</td>\n",
       "      <td>N</td>\n",
       "      <td>Y</td>\n",
       "      <td>411</td>\n",
       "      <td>475</td>\n",
       "      <td>110</td>\n",
       "      <td>N</td>\n",
       "      <td>9</td>\n",
       "      <td>23653.1</td>\n",
       "      <td>Basic</td>\n",
       "    </tr>\n",
       "    <tr>\n",
       "      <th>14</th>\n",
       "      <td>8</td>\n",
       "      <td>6</td>\n",
       "      <td>2014</td>\n",
       "      <td>Y</td>\n",
       "      <td>N</td>\n",
       "      <td>2663</td>\n",
       "      <td>1650</td>\n",
       "      <td>403</td>\n",
       "      <td>Y</td>\n",
       "      <td>10</td>\n",
       "      <td>23818.4</td>\n",
       "      <td>Basic</td>\n",
       "    </tr>\n",
       "    <tr>\n",
       "      <th>15</th>\n",
       "      <td>7</td>\n",
       "      <td>5</td>\n",
       "      <td>2009</td>\n",
       "      <td>N</td>\n",
       "      <td>Y</td>\n",
       "      <td>3367</td>\n",
       "      <td>1039</td>\n",
       "      <td>436</td>\n",
       "      <td>Y</td>\n",
       "      <td>1</td>\n",
       "      <td>24058.9</td>\n",
       "      <td>Basic</td>\n",
       "    </tr>\n",
       "    <tr>\n",
       "      <th>16</th>\n",
       "      <td>7</td>\n",
       "      <td>2</td>\n",
       "      <td>2019</td>\n",
       "      <td>N</td>\n",
       "      <td>N</td>\n",
       "      <td>9680</td>\n",
       "      <td>5250</td>\n",
       "      <td>134</td>\n",
       "      <td>N</td>\n",
       "      <td>10</td>\n",
       "      <td>26533.9</td>\n",
       "      <td>Basic</td>\n",
       "    </tr>\n",
       "    <tr>\n",
       "      <th>17</th>\n",
       "      <td>2</td>\n",
       "      <td>1</td>\n",
       "      <td>2014</td>\n",
       "      <td>Y</td>\n",
       "      <td>N</td>\n",
       "      <td>1820</td>\n",
       "      <td>999</td>\n",
       "      <td>805</td>\n",
       "      <td>Y</td>\n",
       "      <td>4</td>\n",
       "      <td>27438.4</td>\n",
       "      <td>Basic</td>\n",
       "    </tr>\n",
       "    <tr>\n",
       "      <th>18</th>\n",
       "      <td>6</td>\n",
       "      <td>5</td>\n",
       "      <td>2000</td>\n",
       "      <td>Y</td>\n",
       "      <td>N</td>\n",
       "      <td>6453</td>\n",
       "      <td>5671</td>\n",
       "      <td>744</td>\n",
       "      <td>Y</td>\n",
       "      <td>9</td>\n",
       "      <td>28028.0</td>\n",
       "      <td>Basic</td>\n",
       "    </tr>\n",
       "    <tr>\n",
       "      <th>19</th>\n",
       "      <td>2</td>\n",
       "      <td>4</td>\n",
       "      <td>1996</td>\n",
       "      <td>Y</td>\n",
       "      <td>Y</td>\n",
       "      <td>5740</td>\n",
       "      <td>8505</td>\n",
       "      <td>106</td>\n",
       "      <td>Y</td>\n",
       "      <td>6</td>\n",
       "      <td>28295.6</td>\n",
       "      <td>Basic</td>\n",
       "    </tr>\n",
       "  </tbody>\n",
       "</table>\n",
       "</div>"
      ],
      "text/plain": [
       "    cityPartRange  numPrevOwners  made isNewBuilt hasStormProtector  basement  \\\n",
       "0               3              4  1995          N                 Y      3114   \n",
       "1               9              1  2011          N                 Y      9390   \n",
       "2               1              4  2003          Y                 N      2239   \n",
       "3               6              2  1990          N                 N      6861   \n",
       "4               6              9  1992          Y                 Y      6618   \n",
       "5               5              2  2010          Y                 N      4426   \n",
       "6               4              3  1990          Y                 N      6022   \n",
       "7               6              3  2000          N                 N      2325   \n",
       "8               2              2  2020          N                 Y      8598   \n",
       "9               7              6  1995          N                 Y      2675   \n",
       "10              5              1  2021          N                 Y      6831   \n",
       "11              3              1  2002          N                 Y      7704   \n",
       "12              5              4  1997          Y                 N      3411   \n",
       "13              5              1  1991          N                 Y       411   \n",
       "14              8              6  2014          Y                 N      2663   \n",
       "15              7              5  2009          N                 Y      3367   \n",
       "16              7              2  2019          N                 N      9680   \n",
       "17              2              1  2014          Y                 N      1820   \n",
       "18              6              5  2000          Y                 N      6453   \n",
       "19              2              4  1996          Y                 Y      5740   \n",
       "\n",
       "    attic  garage hasStorageRoom  hasGuestRoom    price category  \n",
       "0    1258     264              Y             9  10313.5    Basic  \n",
       "1    6219     922              N             9  13229.1    Basic  \n",
       "2    2795     951              Y             7  14431.3    Basic  \n",
       "3    5769     442              N             5  15488.0    Basic  \n",
       "4    7045     939              Y            10  16799.2    Basic  \n",
       "5    5336     911              N             4  17071.0    Basic  \n",
       "6    8521     391              Y             3  17363.0    Basic  \n",
       "7    6230     536              N             9  18985.0    Basic  \n",
       "8    3119     268              N            10  19638.0    Basic  \n",
       "9    6452     724              Y             2  19788.5    Basic  \n",
       "10   1323     242              N             9  21201.1    Basic  \n",
       "11   7896     468              Y             8  22499.2    Basic  \n",
       "12   8985     213              N             4  22670.7    Basic  \n",
       "13    475     110              N             9  23653.1    Basic  \n",
       "14   1650     403              Y            10  23818.4    Basic  \n",
       "15   1039     436              Y             1  24058.9    Basic  \n",
       "16   5250     134              N            10  26533.9    Basic  \n",
       "17    999     805              Y             4  27438.4    Basic  \n",
       "18   5671     744              Y             9  28028.0    Basic  \n",
       "19   8505     106              Y             6  28295.6    Basic  "
      ]
     },
     "execution_count": 159,
     "metadata": {},
     "output_type": "execute_result"
    }
   ],
   "source": [
    "#loading data yang akan diolah\n",
    "\n",
    "df_paris_housing = pd.read_csv(\"paris_housing2000.csv\")\n",
    "df_paris_housing.head(20)"
   ]
  },
  {
   "cell_type": "code",
   "execution_count": 160,
   "id": "6ef8756d",
   "metadata": {
    "ExecuteTime": {
     "end_time": "2023-06-15T17:32:15.291786500Z",
     "start_time": "2023-06-15T17:32:15.157164500Z"
    }
   },
   "outputs": [
    {
     "name": "stdout",
     "output_type": "stream",
     "text": [
      "<class 'pandas.core.frame.DataFrame'>\n",
      "RangeIndex: 2000 entries, 0 to 1999\n",
      "Data columns (total 12 columns):\n",
      " #   Column             Non-Null Count  Dtype  \n",
      "---  ------             --------------  -----  \n",
      " 0   cityPartRange      2000 non-null   int64  \n",
      " 1   numPrevOwners      2000 non-null   int64  \n",
      " 2   made               2000 non-null   int64  \n",
      " 3   isNewBuilt         2000 non-null   object \n",
      " 4   hasStormProtector  2000 non-null   object \n",
      " 5   basement           2000 non-null   int64  \n",
      " 6   attic              2000 non-null   int64  \n",
      " 7   garage             2000 non-null   int64  \n",
      " 8   hasStorageRoom     2000 non-null   object \n",
      " 9   hasGuestRoom       2000 non-null   int64  \n",
      " 10  price              2000 non-null   float64\n",
      " 11  category           2000 non-null   object \n",
      "dtypes: float64(1), int64(7), object(4)\n",
      "memory usage: 187.6+ KB\n"
     ]
    }
   ],
   "source": [
    "df_paris_housing.info()"
   ]
  },
  {
   "cell_type": "code",
   "execution_count": 161,
   "id": "b4b3c86c",
   "metadata": {
    "ExecuteTime": {
     "end_time": "2023-06-15T17:32:15.291786500Z",
     "start_time": "2023-06-15T17:32:15.173678600Z"
    },
    "id": "b4b3c86c"
   },
   "outputs": [
    {
     "data": {
      "text/plain": [
       "cityPartRange        0\n",
       "numPrevOwners        0\n",
       "made                 0\n",
       "isNewBuilt           0\n",
       "hasStormProtector    0\n",
       "basement             0\n",
       "attic                0\n",
       "garage               0\n",
       "hasStorageRoom       0\n",
       "hasGuestRoom         0\n",
       "price                0\n",
       "category             0\n",
       "dtype: int64"
      ]
     },
     "execution_count": 161,
     "metadata": {},
     "output_type": "execute_result"
    }
   ],
   "source": [
    "#bersihkan dataset menggunakan metode yang sudah dipelajari\n",
    "df_paris_housing.isna().sum()"
   ]
  },
  {
   "cell_type": "code",
   "execution_count": 162,
   "id": "eeca380f",
   "metadata": {
    "ExecuteTime": {
     "end_time": "2023-06-15T17:32:15.303820300Z",
     "start_time": "2023-06-15T17:32:15.188705700Z"
    }
   },
   "outputs": [
    {
     "data": {
      "text/plain": [
       "0"
      ]
     },
     "execution_count": 162,
     "metadata": {},
     "output_type": "execute_result"
    }
   ],
   "source": [
    "df_paris_housing.duplicated().sum()"
   ]
  },
  {
   "attachments": {},
   "cell_type": "markdown",
   "id": "9ba96a3b",
   "metadata": {
    "id": "9ba96a3b"
   },
   "source": [
    "### Data Visualization\n",
    "\n",
    "Dalam proses visualisasi data, silahkan visualisasikan feature menggunakan plot yang sesuai agar mendapat insight dari data dengan menjawab pertanyaan-pertanyaan berikut:\n",
    "\n",
    "    untuk sub A:\n",
    "    1. Bagaimana perbandingan median luas basement rumah berdasarkan tipe rumahnya (Basic dan Luxury)?\n",
    "    2. Bagaimana komposisi jumlah rumah yang baru dibangun atau tidak pada tipe rumah Luxury?\n",
    "   \n",
    "\n",
    "    untuk sub B:\n",
    "    1. Bagaimana perbandingan median luas loteng rumah berdasarkan tipe rumahnya (Basic dan Luxury)\n",
    "    2. Bagaimana komposisi jumlah rumah yang memiliki pelindung badai atau tidak pada tipe rumah Basic?\n",
    "   "
   ]
  },
  {
   "cell_type": "code",
   "execution_count": 163,
   "id": "26979625",
   "metadata": {
    "ExecuteTime": {
     "end_time": "2023-06-15T17:32:15.371364400Z",
     "start_time": "2023-06-15T17:32:15.204372Z"
    },
    "id": "26979625"
   },
   "outputs": [
    {
     "data": {
      "image/png": "[encoded data removed]",
      "text/plain": [
       "<Figure size 640x480 with 1 Axes>"
      ]
     },
     "metadata": {},
     "output_type": "display_data"
    },
    {
     "name": "stdout",
     "output_type": "stream",
     "text": [
      "Median Luas Basement Rumah Tipe Basic :  5170.0\n",
      "Median Luas Basement Rumah Tipe Luxury :  4847.5\n"
     ]
    }
   ],
   "source": [
    "#1. visualisasi fitur menggunakan metode yang sudah dipelajari\n",
    "\n",
    "median_basement = df_paris_housing.groupby('category')['basement'].median()\n",
    "median_basement.plot.bar()\n",
    "plt.title('Perbandingan Median Luas Basement Rumah Berdasarkan Tipe Rumah')\n",
    "plt.xlabel('Tipe Rumah')\n",
    "plt.ylabel('Median Luas Basement')\n",
    "plt.show()\n",
    "print(\"Median Luas Basement Rumah Tipe Basic : \", median_basement['Basic'])\n",
    "print(\"Median Luas Basement Rumah Tipe Luxury : \", median_basement['Luxury'])"
   ]
  },
  {
   "cell_type": "code",
   "execution_count": 164,
   "id": "2dd0c2fe",
   "metadata": {
    "ExecuteTime": {
     "end_time": "2023-06-15T17:32:15.553712200Z",
     "start_time": "2023-06-15T17:32:15.314993900Z"
    }
   },
   "outputs": [
    {
     "name": "stdout",
     "output_type": "stream",
     "text": [
      "1000"
     ]
    },
    {
     "name": "stdout",
     "output_type": "stream",
     "text": [
      "\n",
      "0\n"
     ]
    },
    {
     "data": {
      "image/png": "[encoded data removed]",
      "text/plain": [
       "<Figure size 640x480 with 1 Axes>"
      ]
     },
     "metadata": {},
     "output_type": "display_data"
    }
   ],
   "source": [
    "#2 komposisi jumlah rumah yang baru dibangun atau tidak pada tipe rumah Luxury\n",
    "\n",
    "\n",
    "isBuilt_Y = int(0)\n",
    "isBuilt_N = int(0)\n",
    "\n",
    "for i in range(len(df_paris_housing)) :\n",
    "    if df_paris_housing['category'][i] == 'Luxury' :\n",
    "       if df_paris_housing['isNewBuilt'][i] == 'Y' :\n",
    "        isBuilt_Y += 1\n",
    "       else :\n",
    "        isBuilt_N += 1\n",
    "\n",
    "print(isBuilt_Y)\n",
    "print(isBuilt_N)\n",
    "\n",
    "labels = 'Baru Dibangun' , 'Tidak Baru Dibangun'\n",
    "sizes = [isBuilt_Y, isBuilt_N]\n",
    "colors = ['gold', 'yellowgreen']\n",
    "\n",
    "plt.pie(sizes, labels=labels, colors=colors, autopct='%1.1f%%', startangle=140)\n",
    "plt.axis('equal')\n",
    "plt.title('Komposisi Jumlah Rumah yang Baru Dibangun atau Tidak pada Tipe Rumah Luxury')\n",
    "plt.show()\n"
   ]
  },
  {
   "attachments": {},
   "cell_type": "markdown",
   "id": "dae71b43",
   "metadata": {},
   "source": [
    "### Deskripsi Data Visualization\n",
    "Berikan keterangan atau deskripsi singkat mengenai informasi yang diperoleh dari visualisasi data tersebut. Jawablah pertanyaan di atas pada cell markdown ini!"
   ]
  },
  {
   "attachments": {},
   "cell_type": "markdown",
   "id": "c16f0125",
   "metadata": {},
   "source": [
    "    untuk sub A:\n",
    "    1. Bagaimana perbandingan median luas basement rumah berdasarkan tipe rumahnya (Basic dan Luxury)?\n",
    "    => Median luas basement pada Rumah tipe Basic lebih luas dari pada Luxury\n",
    "        Median Luas Basement Rumah Tipe Basic :  5170.0\n",
    "        Median Luas Basement Rumah Tipe Luxury :  4847.5\n",
    "    2. Bagaimana komposisi jumlah rumah yang baru dibangun atau tidak pada tipe rumah Luxury?\n",
    "    => Seluruh rumah tipe Luxury baru dibangun / bangunan Baru\n",
    "        Jumlah Rumah Luxury yang Baru Dibangun :  100\n",
    "        Jumlah Rumah Luxury yang Tidak Baru Dibangun :  0\n"
   ]
  },
  {
   "attachments": {},
   "cell_type": "markdown",
   "id": "cc0ef278",
   "metadata": {},
   "source": []
  },
  {
   "attachments": {},
   "cell_type": "markdown",
   "id": "3f7db2dd",
   "metadata": {
    "id": "3f7db2dd"
   },
   "source": [
    "### Data Cleansing\n",
    "\n",
    "Bagian berikut berisi proses pembersihan data (jika diperlukan, minimal cek apakah ada data yang kosong atau duplikat). Drop feature yang berlaku sebagai unique identifier (CityCode) dan drop feature Price. Lakukan OneHotEncoder untuk data kategorik string. Pisahkan juga label dengan feature!"
   ]
  },
  {
   "cell_type": "code",
   "execution_count": 165,
   "id": "935b5056",
   "metadata": {
    "ExecuteTime": {
     "end_time": "2023-06-15T17:32:15.554217500Z",
     "start_time": "2023-06-15T17:32:15.411470Z"
    }
   },
   "outputs": [
    {
     "data": {
      "text/plain": [
       "0"
      ]
     },
     "execution_count": 165,
     "metadata": {},
     "output_type": "execute_result"
    }
   ],
   "source": [
    "df_paris_housing.isna().sum().sum()"
   ]
  },
  {
   "cell_type": "code",
   "execution_count": 166,
   "id": "a1c46fb5",
   "metadata": {
    "ExecuteTime": {
     "end_time": "2023-06-15T17:32:15.554217500Z",
     "start_time": "2023-06-15T17:32:15.421973200Z"
    }
   },
   "outputs": [
    {
     "data": {
      "text/plain": [
       "0"
      ]
     },
     "execution_count": 166,
     "metadata": {},
     "output_type": "execute_result"
    }
   ],
   "source": [
    "df_paris_housing.duplicated().sum()"
   ]
  },
  {
   "attachments": {},
   "cell_type": "markdown",
   "id": "069d2943",
   "metadata": {},
   "source": [
    "### Train-test split\n",
    "\n",
    "> Untuk sub A: random_state train_test_split gunakan 2 digit terakhir NPM terbesar di sub kelompok  \n",
    "\n",
    "> Untuk sub B: random_state train_test_split gunakan 2 digit terakhir NPM terkecil di sub kelompok "
   ]
  },
  {
   "cell_type": "code",
   "execution_count": 167,
   "id": "03fb0ddb",
   "metadata": {
    "ExecuteTime": {
     "end_time": "2023-06-15T17:32:15.554217500Z",
     "start_time": "2023-06-15T17:32:15.450534700Z"
    }
   },
   "outputs": [
    {
     "name": "stdout",
     "output_type": "stream",
     "text": [
      "(1600, 9)\n",
      "(400, 9)\n"
     ]
    }
   ],
   "source": [
    "# NPM : 210711228 210711306\n",
    "X = df_paris_housing.drop(['cityPartRange','price','category'], axis=1)\n",
    "Y = df_paris_housing['category']\n",
    "X_train, X_test, Y_train, Y_test = train_test_split(X, Y, test_size=0.2, random_state=6)\n",
    "print(X_train.shape)\n",
    "print(X_test.shape)"
   ]
  },
  {
   "cell_type": "code",
   "execution_count": 168,
   "id": "591114c6",
   "metadata": {
    "ExecuteTime": {
     "end_time": "2023-06-15T17:32:15.555223900Z",
     "start_time": "2023-06-15T17:32:15.455023700Z"
    }
   },
   "outputs": [],
   "source": [
    "categorical = ['isNewBuilt','hasStormProtector','hasStorageRoom']\n",
    "\n",
    "trasformer = make_column_transformer(\n",
    "    (OneHotEncoder(), categorical),\n",
    "    remainder='passthrough'\n",
    ")\n",
    "\n",
    "X_train_Enc = trasformer.fit_transform(X_train)\n",
    "X_test_Enc = trasformer.transform(X_test)\n",
    "\n",
    "df_train_enc = pd.DataFrame(X_train_Enc, columns=trasformer.get_feature_names_out())\n",
    "df_test_enc = pd.DataFrame(X_test_Enc, columns=trasformer.get_feature_names_out())"
   ]
  },
  {
   "cell_type": "code",
   "execution_count": 169,
   "metadata": {
    "ExecuteTime": {
     "end_time": "2023-06-15T17:32:15.555223900Z",
     "start_time": "2023-06-15T17:32:15.469558400Z"
    },
    "collapsed": false
   },
   "outputs": [],
   "source": [
    "transform_target = preprocessing.LabelEncoder()\n",
    "Y_train_to_numerik = transform_target.fit_transform(Y_train)\n",
    "Y_test_to_numerik = transform_target.transform(Y_test)"
   ]
  },
  {
   "attachments": {},
   "cell_type": "markdown",
   "id": "754511e8",
   "metadata": {},
   "source": [
    "### Modelling\n",
    "\n",
    "Gunakan Pipeline untuk modelling dan grid search cross-validation untuk pemilihan model terbaik. Gunakan Stratified K-fold Cross Validation dengan nilai n_splits=5. Pipeline terdiri atas data scaling, feature selection, dan classifier. Buatlah 2 Pipeline dan 2 GridSearchCV untuk masing-masing kombinasi berikut.\n",
    "\n",
    ">Step data scaling untuk membandingkan perlunya data scaling atau tidak. Gunakan dua nilai pada parameter grid yaitu: [None,Scaler]. Untuk sub A: gunakan StandardScaler. Untuk sub B: gunakan MinMaxScaler\n",
    "\n",
    ">Step feature selection untuk membandingkan metode feature selection yang digunakan. Gunakan dua metode pada parameter grid yaitu: [None,Selector]. Untuk sub A: gunakan SelectKBest dengan ketentuan k minimal 2, maksimal n-1. Untuk sub B: gunakan SelectPercentile dengan ketentuan persentil minimal 30%, maksimal 80%. Kalian juga perlu melakukan setting parameter grid nilai k atau percentile-nya.\n",
    "\n",
    ">Step classifier untuk membandingkan algoritme classifier. Eksplorasi pengaturan parameter yang ada pada algoritme yang akan Anda gunakan, tidak terbatas pada 1-2 parameter saja supaya optimal (selain random_state). Silahkan bereksperimen untuk parameter seperti n_estimators, max_depth untuk tree-based classifier; C untuk Logistic Regression; dan C, gamma, serta kernel untuk SVM agar mendapat akurasi terbaik.\n",
    "\n",
    "> Sub A: RandomForestClassifier(n_estimators=bebas minimal 50, random_state= dua digit terakhir NPM terbesar dalam sub kelompok, max_depth=bebas, criterion='entropy') dan LogisticRegression(C=bebas, max_iter=10000, class_weight='balanced')\n",
    "\n",
    "> Sub B: K-Nearest Neighbors(n_neighbors=bebas, weights='distance') dan SVC(C=bebas, gamma=bebas, class_weight='balanced')\n",
    "\n",
    ">Tampilkan best estimator dan nilai best score dari kedua grid-search cross-validation. Fit best estimator pada train set kemudian ujikan pada test set dengan fungsi score. Format score 3 digit di belakang koma (.3f)."
   ]
  },
  {
   "cell_type": "code",
   "execution_count": 170,
   "metadata": {
    "ExecuteTime": {
     "end_time": "2023-06-15T17:39:50.940099800Z",
     "start_time": "2023-06-15T17:38:14.153377Z"
    },
    "collapsed": false
   },
   "outputs": [
    {
     "name": "stdout",
     "output_type": "stream",
     "text": [
      "Best params :  {'Classifier__criterion': 'entropy', 'Classifier__max_depth': 10, 'Classifier__n_estimators': 200, 'Feature_Selection': SelectKBest(k=3), 'scaler': None}\n",
      "Best score : 0.776\n",
      "Best Estimator :  Pipeline(steps=[('scaler', None), ('Feature_Selection', SelectKBest(k=3)),\n",
      "                ('Classifier',\n",
      "                 RandomForestClassifier(criterion='entropy', max_depth=10,\n",
      "                                        n_estimators=200, random_state=6))])\n",
      "Score train set : 0.778\n",
      "Score test set : 0.807\n"
     ]
    }
   ],
   "source": [
    "#cell code ini untuk proses pembuatan model pipeline & grid search 1\n",
    "#NPM : 210711228 210711306\n",
    "scaler_model_1 = StandardScaler()\n",
    "selector_model_1 = SelectKBest(k = 3)\n",
    "classifier_model_1 = RandomForestClassifier(n_estimators=100, random_state=6, max_depth=10, criterion='entropy')\n",
    "\n",
    "pipeline_model_1 = Pipeline([\n",
    "    ('scaler', scaler_model_1),\n",
    "    ('Feature_Selection', selector_model_1),\n",
    "    ('Classifier', classifier_model_1)\n",
    "])\n",
    "\n",
    "estimator = pipeline_model_1.fit(X_train_Enc, Y_train_to_numerik)\n",
    "parameter = {\n",
    "    'scaler' : [None, scaler_model_1],\n",
    "    'Feature_Selection' : [selector_model_1],\n",
    "    'Classifier__n_estimators' : [50, 100, 200],\n",
    "    'Classifier__max_depth' : [10, 20, 50],\n",
    "    'Classifier__criterion' : ['gini', 'entropy']\n",
    "}\n",
    "\n",
    "skfold = StratifiedKFold(n_splits=5)\n",
    "\n",
    "grid_search_model_1 = GridSearchCV(\n",
    "    estimator = pipeline_model_1,\n",
    "    param_grid = parameter,\n",
    "    cv = skfold\n",
    ")\n",
    "grid_search_model_1.fit(X_train_Enc, Y_train_to_numerik)\n",
    "print(\"Best params : \", grid_search_model_1.best_params_)\n",
    "print(\"Best score : %.3f\" %grid_search_model_1.best_score_)\n",
    "print(\"Best Estimator : \", grid_search_model_1.best_estimator_)\n",
    "print(\"Score train set : %.3f\" %grid_search_model_1.score(X_train_Enc, Y_train_to_numerik))\n",
    "print(\"Score test set : %.3f\" %grid_search_model_1.score(X_test_Enc, Y_test_to_numerik))"
   ]
  },
  {
   "cell_type": "code",
   "execution_count": 171,
   "metadata": {
    "ExecuteTime": {
     "end_time": "2023-06-15T17:33:52.354235800Z",
     "start_time": "2023-06-15T17:33:52.341193Z"
    },
    "collapsed": false
   },
   "outputs": [
    {
     "name": "stdout",
     "output_type": "stream",
     "text": [
      "Index(['onehotencoder__isNewBuilt_N', 'onehotencoder__isNewBuilt_Y',\n",
      "       'remainder__hasGuestRoom'],\n",
      "      dtype='object')\n"
     ]
    }
   ],
   "source": [
    "if grid_search_model_1.best_params_['Feature_Selection'] != None:\n",
    "    mask_model_1 = grid_search_model_1.best_estimator_.named_steps['Feature_Selection'].get_support()\n",
    "    select_feature_model_1 = df_train_enc.columns[mask_model_1]\n",
    "    print(select_feature_model_1)\n",
    "else:\n",
    "    print(\"Tidak ada feature selection\")"
   ]
  },
  {
   "cell_type": "code",
   "execution_count": 172,
   "id": "331b208c",
   "metadata": {
    "ExecuteTime": {
     "end_time": "2023-06-15T17:40:30.567752700Z",
     "start_time": "2023-06-15T17:40:29.229195800Z"
    },
    "id": "331b208c"
   },
   "outputs": [
    {
     "name": "stdout",
     "output_type": "stream",
     "text": [
      "Best params :  {'Feature_Selection': SelectKBest(k=3), 'classifier__C': 1, 'scaler': None}\n",
      "Best score : 0.778\n",
      "Best estimator :  Pipeline(steps=[('scaler', None), ('Feature_Selection', SelectKBest(k=3)),\n",
      "                ('classifier',\n",
      "                 LogisticRegression(C=1, class_weight='balanced',\n",
      "                                    max_iter=10000))])\n",
      "Score train set : 0.778\n",
      "Score test set : 0.807\n"
     ]
    }
   ],
   "source": [
    "#cell code ini untuk proses pembuatan model pipeline & grid search 2\n",
    "scaler_model_2 = StandardScaler()\n",
    "selector_model_2 = SelectKBest(k = 3)\n",
    "classifier_model_2 = LogisticRegression(max_iter=10000, class_weight='balanced', C=100)\n",
    "\n",
    "pipeline_model_2 = Pipeline([\n",
    "    ('scaler', scaler_model_2),\n",
    "    ('Feature_Selection', selector_model_2),\n",
    "    ('classifier', classifier_model_2)\n",
    "])\n",
    "\n",
    "estimator_model_2 = pipeline_model_2.fit(X_train_Enc, Y_train_to_numerik)\n",
    "\n",
    "parameter_grid_model_2 = {\n",
    "    'scaler': [None, scaler_model_2],\n",
    "    'Feature_Selection': [selector_model_2],\n",
    "    'classifier__C': [1,10, 100],\n",
    "}\n",
    "\n",
    "grid_search_model_2 = GridSearchCV(\n",
    "    estimator= estimator_model_2,\n",
    "    param_grid= parameter_grid_model_2,\n",
    "    cv= StratifiedKFold(n_splits=5),\n",
    "    scoring='accuracy'\n",
    ")\n",
    "\n",
    "grid_search_model_2.fit(X_train_Enc, Y_train_to_numerik)\n",
    "\n",
    "print(\"Best params : \", grid_search_model_2.best_params_)\n",
    "print(\"Best score : %.3f\" %grid_search_model_2.best_score_)\n",
    "print(\"Best estimator : \", grid_search_model_2.best_estimator_)\n",
    "print(\"Score train set : %.3f\" %grid_search_model_2.score(X_train_Enc, Y_train_to_numerik))\n",
    "print(\"Score test set : %.3f\" %grid_search_model_2.score(X_test_Enc, Y_test_to_numerik))"
   ]
  },
  {
   "cell_type": "code",
   "execution_count": 173,
   "metadata": {
    "ExecuteTime": {
     "end_time": "2023-06-15T17:33:53.377054600Z",
     "start_time": "2023-06-15T17:33:53.334966300Z"
    },
    "collapsed": false
   },
   "outputs": [
    {
     "name": "stdout",
     "output_type": "stream",
     "text": [
      "Index(['onehotencoder__isNewBuilt_N', 'onehotencoder__isNewBuilt_Y',\n",
      "       'remainder__hasGuestRoom'],\n",
      "      dtype='object')\n"
     ]
    }
   ],
   "source": [
    "if grid_search_model_2.best_params_['Feature_Selection'] != None:\n",
    "    mask_model_2 = grid_search_model_2.best_estimator_.named_steps['Feature_Selection'].get_support()\n",
    "    select_feature_v2 = df_train_enc.columns[mask_model_2]\n",
    "    print(select_feature_v2)\n",
    "else:\n",
    "    print(\"Tidak ada feature selection\")\n"
   ]
  },
  {
   "attachments": {},
   "cell_type": "markdown",
   "id": "9ccd42b1",
   "metadata": {
    "id": "9ccd42b1"
   },
   "source": [
    "### Evaluasi Model\n",
    "\n",
    "Bagian berikut berisi evaluasi model menggunakan classification report dan skor AUC. Tampilkan classification report dan AUC dari best estimator yang diperoleh masing-masing grid search!"
   ]
  },
  {
   "cell_type": "code",
   "execution_count": 174,
   "id": "25812a07",
   "metadata": {
    "ExecuteTime": {
     "end_time": "2023-06-15T17:33:53.455367200Z",
     "start_time": "2023-06-15T17:33:53.354007700Z"
    },
    "id": "25812a07"
   },
   "outputs": [
    {
     "name": "stdout",
     "output_type": "stream",
     "text": [
      "Confusion Matrix : \n",
      " [[107  77]\n",
      " [  0 216]]\n",
      "Classification Report : \n",
      "               precision    recall  f1-score   support\n",
      "\n",
      "       Basic       1.00      0.58      0.74       184\n",
      "      Luxury       0.74      1.00      0.85       216\n",
      "\n",
      "    accuracy                           0.81       400\n",
      "   macro avg       0.87      0.79      0.79       400\n",
      "weighted avg       0.86      0.81      0.80       400\n",
      "\n"
     ]
    }
   ],
   "source": [
    "#lakukan proses evaluasi model algoritme pembelajaran 1\n",
    "\n",
    "gs_Predict_model_1 = grid_search_model_1.predict(X_test_Enc)\n",
    "Label = ['Basic', 'Luxury']\n",
    "\n",
    "print(\"Confusion Matrix : \\n\", confusion_matrix(Y_test_to_numerik, gs_Predict_model_1))\n",
    "print(\"Classification Report : \\n\", classification_report(Y_test_to_numerik, gs_Predict_model_1, target_names=Label))"
   ]
  },
  {
   "cell_type": "code",
   "execution_count": 175,
   "metadata": {
    "ExecuteTime": {
     "end_time": "2023-06-15T17:33:53.802852500Z",
     "start_time": "2023-06-15T17:33:53.414274300Z"
    },
    "collapsed": false
   },
   "outputs": [
    {
     "name": "stdout",
     "output_type": "stream",
     "text": [
      "ROC AUC Score : 0.791\n"
     ]
    }
   ],
   "source": [
    "\n",
    "clf_model_1 = OneVsRestClassifier(grid_search_model_1.best_estimator_)\n",
    "clf_model_1.fit(X_train_Enc, Y_train_to_numerik)\n",
    "y_score_model_1 = clf_model_1.predict(X_test_Enc)\n",
    "\n",
    "print(\"ROC AUC Score : %0.3f\" %roc_auc_score(Y_test_to_numerik, y_score_model_1))\n"
   ]
  },
  {
   "cell_type": "code",
   "execution_count": 176,
   "metadata": {
    "ExecuteTime": {
     "end_time": "2023-06-15T17:33:54.496995300Z",
     "start_time": "2023-06-15T17:33:53.807372500Z"
    },
    "collapsed": false
   },
   "outputs": [
    {
     "data": {
      "image/png": "[encoded data removed]",
      "text/plain": [
       "<Figure size 1000x1000 with 1 Axes>"
      ]
     },
     "metadata": {},
     "output_type": "display_data"
    }
   ],
   "source": [
    "#ROC Curve\n",
    "fpr = {}\n",
    "tpr = {}\n",
    "thresh = {}\n",
    "\n",
    "n_class = 2\n",
    "\n",
    "for i in range(n_class):\n",
    "    fpr[i], tpr[i], thresh[i] = roc_curve(Y_test_to_numerik, y_score_model_1, pos_label=i)\n",
    "\n",
    "plt.figure(figsize=(10,10))\n",
    "plt.plot(fpr[0], tpr[0], linestyle='--',color='orange', label='Basic vs Rest')\n",
    "plt.plot(fpr[1], tpr[1], linestyle='--',color='green', label='Luxury vs Rest')\n",
    "plt.title('Multiclass ROC curve')\n",
    "plt.xlabel('False Positive Rate')\n",
    "plt.ylabel('True Positive rate')\n",
    "plt.legend(loc='best')\n",
    "plt.savefig('Multiclass ROC',dpi=300)\n",
    "plt.show()"
   ]
  },
  {
   "cell_type": "code",
   "execution_count": 177,
   "metadata": {
    "ExecuteTime": {
     "end_time": "2023-06-15T17:33:54.643823100Z",
     "start_time": "2023-06-15T17:33:54.498991700Z"
    },
    "collapsed": false
   },
   "outputs": [
    {
     "name": "stdout",
     "output_type": "stream",
     "text": [
      "Confusion Matrix : \n",
      " [[107  77]\n",
      " [  0 216]]\n",
      "Classification Report : \n",
      "               precision    recall  f1-score   support\n",
      "\n",
      "       Basic       1.00      0.58      0.74       184\n",
      "      Luxury       0.74      1.00      0.85       216\n",
      "\n",
      "    accuracy                           0.81       400\n",
      "   macro avg       0.87      0.79      0.79       400\n",
      "weighted avg       0.86      0.81      0.80       400\n",
      "\n"
     ]
    }
   ],
   "source": [
    "#lakukan proses evaluasi model algoritme pembelajaran 2\n",
    "gs_Predict_model_2 = grid_search_model_2.predict(X_test_Enc)\n",
    "Label = ['Basic', 'Luxury']\n",
    "\n",
    "print(\"Confusion Matrix : \\n\", confusion_matrix(Y_test_to_numerik, gs_Predict_model_2))\n",
    "print(\"Classification Report : \\n\", classification_report(Y_test_to_numerik, gs_Predict_model_2, target_names=Label))"
   ]
  },
  {
   "cell_type": "code",
   "execution_count": 178,
   "metadata": {
    "ExecuteTime": {
     "end_time": "2023-06-15T17:33:54.643823100Z",
     "start_time": "2023-06-15T17:33:54.512018200Z"
    },
    "collapsed": false
   },
   "outputs": [
    {
     "name": "stdout",
     "output_type": "stream",
     "text": [
      "ROC AUC Score : 0.791\n"
     ]
    }
   ],
   "source": [
    "clf_model_2 = OneVsRestClassifier(grid_search_model_2.best_estimator_)\n",
    "clf_model_2.fit(X_train_Enc, Y_train_to_numerik)\n",
    "y_score_model_2 = clf_model_2.predict(X_test_Enc)\n",
    "\n",
    "print(\"ROC AUC Score : %.3f\" %roc_auc_score(Y_test_to_numerik, y_score_model_2))"
   ]
  },
  {
   "cell_type": "code",
   "execution_count": 179,
   "metadata": {
    "ExecuteTime": {
     "end_time": "2023-06-15T17:33:54.809840900Z",
     "start_time": "2023-06-15T17:33:54.563101800Z"
    },
    "collapsed": false
   },
   "outputs": [
    {
     "data": {
      "text/plain": [
       "Text(0, 0.5, 'True Positive rate')"
      ]
     },
     "execution_count": 179,
     "metadata": {},
     "output_type": "execute_result"
    },
    {
     "data": {
      "image/png": "[encoded data removed]",
      "text/plain": [
       "<Figure size 1000x1000 with 1 Axes>"
      ]
     },
     "metadata": {},
     "output_type": "display_data"
    }
   ],
   "source": [
    "#ROC Curve\n",
    "fpr = {}\n",
    "tpr = {}\n",
    "thresh = {}\n",
    "\n",
    "n_class = 2\n",
    "\n",
    "for i in range(n_class):\n",
    "    fpr[i], tpr[i], thresh[i] = roc_curve(Y_test_to_numerik, y_score_model_2, pos_label=i)\n",
    "\n",
    "plt.figure(figsize=(10,10))\n",
    "plt.plot(fpr[0], tpr[0], linestyle='--',color='orange', label='Basic vs Rest')\n",
    "plt.plot(fpr[1], tpr[1], linestyle='--',color='green', label='Luxury vs Rest')\n",
    "plt.title('Multiclass ROC curve')\n",
    "plt.xlabel('False Positive Rate')\n",
    "plt.ylabel('True Positive rate')"
   ]
  },
  {
   "attachments": {},
   "cell_type": "markdown",
   "id": "d6f85f13",
   "metadata": {
    "id": "d6f85f13"
   },
   "source": [
    "## Kesimpulan\n",
    "\n",
    "Silahkan jawab pertanyaan berikut:\n",
    "\n",
    "1. Apa saja feature-feature yang penting untuk membedakan antara rumah basic dan luxury? \n",
    "\n",
    "2. Model apakah yang memiliki performa paling baik terhadap dataset? Apakah parameter setting yang paling optimal dari model tersebut?"
   ]
  },
  {
   "attachments": {},
   "cell_type": "markdown",
   "id": "a1c82c65",
   "metadata": {
    "id": "a1c82c65"
   },
   "source": [
    "*tulis jawaban Anda di cell ini*"
   ]
  },
  {
   "attachments": {},
   "cell_type": "markdown",
   "metadata": {
    "collapsed": false
   },
   "source": [
    "1. ['onehotencoder__isNewBuilt_N', 'onehotencoder__isNewBuilt_Y',\n",
    "'remainder__hasGuestRoom']\n",
    "2. Model ke 2 memiliki performa paling baik terhadap dataset. Parameter setting yang paling optimal dari model tersebut adalah\n",
    "{'Feature_Selection': SelectKBest(k=3), 'classifier__C': 1, 'scaler': None}\n",
    "dan best score nya adalah 0.778"
   ]
  }
 ],
 "metadata": {
  "colab": {
   "provenance": []
  },
  "kernelspec": {
   "display_name": "Python 3 (ipykernel)",
   "language": "python",
   "name": "python3"
  },
  "language_info": {
   "codemirror_mode": {
    "name": "ipython",
    "version": 3
   },
   "file_extension": ".py",
   "mimetype": "text/x-python",
   "name": "python",
   "nbconvert_exporter": "python",
   "pygments_lexer": "ipython3",
   "version": "3.10.9"
  }
 },
 "nbformat": 4,
 "nbformat_minor": 5
}
